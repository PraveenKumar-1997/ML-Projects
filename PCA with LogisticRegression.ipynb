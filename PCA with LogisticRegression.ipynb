{
 "cells": [
  {
   "cell_type": "code",
   "execution_count": 105,
   "metadata": {},
   "outputs": [],
   "source": [
    "import pandas as pd\n",
    "import numpy as np\n",
    "import matplotlib.pyplot as plt\n",
    "import os"
   ]
  },
  {
   "cell_type": "code",
   "execution_count": 106,
   "metadata": {},
   "outputs": [
    {
     "data": {
      "text/plain": [
       "'C:\\\\Users\\\\ABIARYAA\\\\Machine Learning A-Z New\\\\Part 9 - Dimensionality Reduction\\\\Section 43 - Principal Component Analysis (PCA)'"
      ]
     },
     "execution_count": 106,
     "metadata": {},
     "output_type": "execute_result"
    }
   ],
   "source": [
    "pwd"
   ]
  },
  {
   "cell_type": "code",
   "execution_count": 107,
   "metadata": {},
   "outputs": [],
   "source": [
    "os.chdir('C:\\\\Users\\\\ABIARYAA\\\\Machine Learning A-Z New\\\\Part 9 - Dimensionality Reduction\\\\Section 43 - Principal Component Analysis (PCA)')"
   ]
  },
  {
   "cell_type": "code",
   "execution_count": 108,
   "metadata": {},
   "outputs": [],
   "source": [
    "dataset = pd.read_csv(\"Wine.csv\")"
   ]
  },
  {
   "cell_type": "code",
   "execution_count": 109,
   "metadata": {},
   "outputs": [
    {
     "data": {
      "text/html": [
       "<div>\n",
       "<style scoped>\n",
       "    .dataframe tbody tr th:only-of-type {\n",
       "        vertical-align: middle;\n",
       "    }\n",
       "\n",
       "    .dataframe tbody tr th {\n",
       "        vertical-align: top;\n",
       "    }\n",
       "\n",
       "    .dataframe thead th {\n",
       "        text-align: right;\n",
       "    }\n",
       "</style>\n",
       "<table border=\"1\" class=\"dataframe\">\n",
       "  <thead>\n",
       "    <tr style=\"text-align: right;\">\n",
       "      <th></th>\n",
       "      <th>Alcohol</th>\n",
       "      <th>Malic_Acid</th>\n",
       "      <th>Ash</th>\n",
       "      <th>Ash_Alcanity</th>\n",
       "      <th>Magnesium</th>\n",
       "      <th>Total_Phenols</th>\n",
       "      <th>Flavanoids</th>\n",
       "      <th>Nonflavanoid_Phenols</th>\n",
       "      <th>Proanthocyanins</th>\n",
       "      <th>Color_Intensity</th>\n",
       "      <th>Hue</th>\n",
       "      <th>OD280</th>\n",
       "      <th>Proline</th>\n",
       "      <th>Customer_Segment</th>\n",
       "    </tr>\n",
       "  </thead>\n",
       "  <tbody>\n",
       "    <tr>\n",
       "      <td>0</td>\n",
       "      <td>14.23</td>\n",
       "      <td>1.71</td>\n",
       "      <td>2.43</td>\n",
       "      <td>15.6</td>\n",
       "      <td>127</td>\n",
       "      <td>2.80</td>\n",
       "      <td>3.06</td>\n",
       "      <td>0.28</td>\n",
       "      <td>2.29</td>\n",
       "      <td>5.64</td>\n",
       "      <td>1.04</td>\n",
       "      <td>3.92</td>\n",
       "      <td>1065</td>\n",
       "      <td>1</td>\n",
       "    </tr>\n",
       "    <tr>\n",
       "      <td>1</td>\n",
       "      <td>13.20</td>\n",
       "      <td>1.78</td>\n",
       "      <td>2.14</td>\n",
       "      <td>11.2</td>\n",
       "      <td>100</td>\n",
       "      <td>2.65</td>\n",
       "      <td>2.76</td>\n",
       "      <td>0.26</td>\n",
       "      <td>1.28</td>\n",
       "      <td>4.38</td>\n",
       "      <td>1.05</td>\n",
       "      <td>3.40</td>\n",
       "      <td>1050</td>\n",
       "      <td>1</td>\n",
       "    </tr>\n",
       "    <tr>\n",
       "      <td>2</td>\n",
       "      <td>13.16</td>\n",
       "      <td>2.36</td>\n",
       "      <td>2.67</td>\n",
       "      <td>18.6</td>\n",
       "      <td>101</td>\n",
       "      <td>2.80</td>\n",
       "      <td>3.24</td>\n",
       "      <td>0.30</td>\n",
       "      <td>2.81</td>\n",
       "      <td>5.68</td>\n",
       "      <td>1.03</td>\n",
       "      <td>3.17</td>\n",
       "      <td>1185</td>\n",
       "      <td>1</td>\n",
       "    </tr>\n",
       "    <tr>\n",
       "      <td>3</td>\n",
       "      <td>14.37</td>\n",
       "      <td>1.95</td>\n",
       "      <td>2.50</td>\n",
       "      <td>16.8</td>\n",
       "      <td>113</td>\n",
       "      <td>3.85</td>\n",
       "      <td>3.49</td>\n",
       "      <td>0.24</td>\n",
       "      <td>2.18</td>\n",
       "      <td>7.80</td>\n",
       "      <td>0.86</td>\n",
       "      <td>3.45</td>\n",
       "      <td>1480</td>\n",
       "      <td>1</td>\n",
       "    </tr>\n",
       "    <tr>\n",
       "      <td>4</td>\n",
       "      <td>13.24</td>\n",
       "      <td>2.59</td>\n",
       "      <td>2.87</td>\n",
       "      <td>21.0</td>\n",
       "      <td>118</td>\n",
       "      <td>2.80</td>\n",
       "      <td>2.69</td>\n",
       "      <td>0.39</td>\n",
       "      <td>1.82</td>\n",
       "      <td>4.32</td>\n",
       "      <td>1.04</td>\n",
       "      <td>2.93</td>\n",
       "      <td>735</td>\n",
       "      <td>1</td>\n",
       "    </tr>\n",
       "  </tbody>\n",
       "</table>\n",
       "</div>"
      ],
      "text/plain": [
       "   Alcohol  Malic_Acid   Ash  Ash_Alcanity  Magnesium  Total_Phenols  \\\n",
       "0    14.23        1.71  2.43          15.6        127           2.80   \n",
       "1    13.20        1.78  2.14          11.2        100           2.65   \n",
       "2    13.16        2.36  2.67          18.6        101           2.80   \n",
       "3    14.37        1.95  2.50          16.8        113           3.85   \n",
       "4    13.24        2.59  2.87          21.0        118           2.80   \n",
       "\n",
       "   Flavanoids  Nonflavanoid_Phenols  Proanthocyanins  Color_Intensity   Hue  \\\n",
       "0        3.06                  0.28             2.29             5.64  1.04   \n",
       "1        2.76                  0.26             1.28             4.38  1.05   \n",
       "2        3.24                  0.30             2.81             5.68  1.03   \n",
       "3        3.49                  0.24             2.18             7.80  0.86   \n",
       "4        2.69                  0.39             1.82             4.32  1.04   \n",
       "\n",
       "   OD280  Proline  Customer_Segment  \n",
       "0   3.92     1065                 1  \n",
       "1   3.40     1050                 1  \n",
       "2   3.17     1185                 1  \n",
       "3   3.45     1480                 1  \n",
       "4   2.93      735                 1  "
      ]
     },
     "execution_count": 109,
     "metadata": {},
     "output_type": "execute_result"
    }
   ],
   "source": [
    "dataset.head()"
   ]
  },
  {
   "cell_type": "code",
   "execution_count": 110,
   "metadata": {},
   "outputs": [
    {
     "data": {
      "text/plain": [
       "(178, 14)"
      ]
     },
     "execution_count": 110,
     "metadata": {},
     "output_type": "execute_result"
    }
   ],
   "source": [
    "dataset.shape"
   ]
  },
  {
   "cell_type": "code",
   "execution_count": 111,
   "metadata": {},
   "outputs": [],
   "source": [
    "#X many features\n",
    "# y is 1,2 or 3\n",
    "X = dataset.iloc[:, :-1].values\n",
    "y = dataset.iloc[:, -1].values"
   ]
  },
  {
   "cell_type": "code",
   "execution_count": 112,
   "metadata": {},
   "outputs": [
    {
     "data": {
      "text/plain": [
       "(array([[1.423e+01, 1.710e+00, 2.430e+00, ..., 1.040e+00, 3.920e+00,\n",
       "         1.065e+03],\n",
       "        [1.320e+01, 1.780e+00, 2.140e+00, ..., 1.050e+00, 3.400e+00,\n",
       "         1.050e+03],\n",
       "        [1.316e+01, 2.360e+00, 2.670e+00, ..., 1.030e+00, 3.170e+00,\n",
       "         1.185e+03],\n",
       "        ...,\n",
       "        [1.327e+01, 4.280e+00, 2.260e+00, ..., 5.900e-01, 1.560e+00,\n",
       "         8.350e+02],\n",
       "        [1.317e+01, 2.590e+00, 2.370e+00, ..., 6.000e-01, 1.620e+00,\n",
       "         8.400e+02],\n",
       "        [1.413e+01, 4.100e+00, 2.740e+00, ..., 6.100e-01, 1.600e+00,\n",
       "         5.600e+02]]),\n",
       " array([1, 1, 1, 1, 1, 1, 1, 1, 1, 1, 1, 1, 1, 1, 1, 1, 1, 1, 1, 1, 1, 1,\n",
       "        1, 1, 1, 1, 1, 1, 1, 1, 1, 1, 1, 1, 1, 1, 1, 1, 1, 1, 1, 1, 1, 1,\n",
       "        1, 1, 1, 1, 1, 1, 1, 1, 1, 1, 1, 1, 1, 1, 1, 2, 2, 2, 2, 2, 2, 2,\n",
       "        2, 2, 2, 2, 2, 2, 2, 2, 2, 2, 2, 2, 2, 2, 2, 2, 2, 2, 2, 2, 2, 2,\n",
       "        2, 2, 2, 2, 2, 2, 2, 2, 2, 2, 2, 2, 2, 2, 2, 2, 2, 2, 2, 2, 2, 2,\n",
       "        2, 2, 2, 2, 2, 2, 2, 2, 2, 2, 2, 2, 2, 2, 2, 2, 2, 2, 2, 2, 3, 3,\n",
       "        3, 3, 3, 3, 3, 3, 3, 3, 3, 3, 3, 3, 3, 3, 3, 3, 3, 3, 3, 3, 3, 3,\n",
       "        3, 3, 3, 3, 3, 3, 3, 3, 3, 3, 3, 3, 3, 3, 3, 3, 3, 3, 3, 3, 3, 3,\n",
       "        3, 3], dtype=int64))"
      ]
     },
     "execution_count": 112,
     "metadata": {},
     "output_type": "execute_result"
    }
   ],
   "source": [
    "X,y"
   ]
  },
  {
   "cell_type": "code",
   "execution_count": 113,
   "metadata": {},
   "outputs": [],
   "source": [
    "#Train Test split\n",
    "from sklearn.model_selection import train_test_split\n",
    "X_train, X_test, y_train, y_test = train_test_split(X, y, test_size = 0.20, random_state=0)"
   ]
  },
  {
   "cell_type": "code",
   "execution_count": 120,
   "metadata": {},
   "outputs": [],
   "source": [
    "#Feature Scaling\n",
    "from sklearn.preprocessing import StandardScaler\n",
    "sc_X = StandardScaler()\n",
    "X_train = sc_X.fit_transform(X_train)\n",
    "X_test = sc_X.transform(X_test)"
   ]
  },
  {
   "cell_type": "code",
   "execution_count": 13,
   "metadata": {},
   "outputs": [],
   "source": [
    "# #Import PCA\n",
    "# from sklearn.decomposition import PCA\n",
    "# pca = PCA(n_components = None )\n",
    "# #n_components is the no.of extracted features which explains the most of the variants\n",
    "# #Here we have put None because we dont know how many are the componets that explains most of the variation\n",
    "# X_train = pca.fit_transform(X_train)\n",
    "# X_test  = pca.fit(X_test)\n",
    "# explained_variance = pca.explained_variance_ratio_ #tells for each Principal component how much is the variation explained"
   ]
  },
  {
   "cell_type": "code",
   "execution_count": 14,
   "metadata": {},
   "outputs": [
    {
     "data": {
      "text/plain": [
       "array([0.34742496, 0.19120613, 0.14128355, 0.12247686, 0.06541635,\n",
       "       0.0359935 , 0.02875223, 0.01883058, 0.01574121, 0.01155457,\n",
       "       0.00891286, 0.0080971 , 0.0043101 ])"
      ]
     },
     "execution_count": 14,
     "metadata": {},
     "output_type": "execute_result"
    }
   ],
   "source": [
    "# explained_variance"
   ]
  },
  {
   "cell_type": "code",
   "execution_count": 121,
   "metadata": {},
   "outputs": [],
   "source": [
    "#Import PCA\n",
    "from sklearn.decomposition import PCA\n",
    "pca = PCA(n_components = 2 )\n",
    "#n_components is the no.of extracted features which explains the most of the variants\n",
    "#Here we have put 2 because we want to visualize the components(most important top 2) \n",
    "#that explains most of the variation in 2D\n",
    "X_train = pca.fit_transform(X_train)\n",
    "X_test  = pca.fit_transform(X_test)\n",
    "explained_variance = pca.explained_variance_ratio_ #tells for each Principal component how much is the variation explained"
   ]
  },
  {
   "cell_type": "code",
   "execution_count": 122,
   "metadata": {},
   "outputs": [
    {
     "data": {
      "text/plain": [
       "array([[-9.95027381e-01, -6.76569483e-01],\n",
       "       [-8.25758990e-01,  9.95889837e-01],\n",
       "       [ 5.01565410e-01,  1.40164803e+00],\n",
       "       [-1.16719551e+00, -1.04881992e+00],\n",
       "       [ 8.48039433e-01,  1.52437389e-01],\n",
       "       [ 1.17954326e+00, -8.68713059e-01],\n",
       "       [ 3.98622020e-01,  1.42369691e+00],\n",
       "       [-1.91066158e-01,  1.48551896e+00],\n",
       "       [-1.39275944e-01,  1.43657551e+00],\n",
       "       [ 9.77664638e-01, -6.94455126e-01],\n",
       "       [-1.36151921e+00, -1.55962275e-01],\n",
       "       [ 8.95945619e-01,  7.91347336e-01],\n",
       "       [-9.87233211e-01, -6.15853968e-01],\n",
       "       [ 1.01371263e+00, -1.51133703e+00],\n",
       "       [-1.05117584e+00, -1.29858750e-01],\n",
       "       [-1.37438543e+00, -1.76143560e-01],\n",
       "       [ 1.20308446e+00, -5.47922549e-01],\n",
       "       [-4.98781924e-01, -2.23321997e+00],\n",
       "       [ 1.19913403e+00, -1.87319944e-03],\n",
       "       [ 9.04572692e-02,  1.44625542e+00],\n",
       "       [-1.22134823e+00, -1.63307941e+00],\n",
       "       [-1.16344596e+00, -2.85665003e-01],\n",
       "       [ 8.10220559e-01,  5.32319846e-01],\n",
       "       [-1.26858769e+00, -2.72657398e-01],\n",
       "       [-1.30919994e+00, -1.18367198e+00],\n",
       "       [ 6.18791396e-01,  2.52120820e-02],\n",
       "       [-1.11383617e+00,  5.95729707e-02],\n",
       "       [-1.03788013e+00,  3.19222094e-01],\n",
       "       [ 5.38362997e-01,  1.57798057e+00],\n",
       "       [-1.05343084e+00,  8.23498029e-01],\n",
       "       [-1.15548628e+00, -3.47866641e-01],\n",
       "       [ 7.45296191e-02,  8.14695561e-01],\n",
       "       [ 1.17768267e+00, -7.41548817e-01],\n",
       "       [-3.48202854e-01,  1.99463416e+00],\n",
       "       [ 1.17368574e+00, -6.10018448e-02],\n",
       "       [-2.18445291e-01,  3.64580265e-01],\n",
       "       [ 2.49992529e-01, -2.38303130e-01],\n",
       "       [ 1.62468851e+00, -9.20128246e-01],\n",
       "       [ 7.72975094e-01,  8.69823681e-01],\n",
       "       [ 1.21150978e+00, -1.51065788e-01],\n",
       "       [-1.65338548e+00, -4.35500650e-01],\n",
       "       [-7.37360476e-01, -1.52183198e+00],\n",
       "       [ 6.89397798e-01,  8.37472267e-01],\n",
       "       [ 2.44967443e-02,  1.31050198e+00],\n",
       "       [-4.92704486e-02,  1.79913274e+00],\n",
       "       [-1.09424466e+00, -1.55157521e+00],\n",
       "       [-1.42627007e+00,  2.67086287e-01],\n",
       "       [ 1.50050041e+00, -2.03730897e-01],\n",
       "       [-1.62351638e+00, -1.09950704e+00],\n",
       "       [-1.76743189e-01,  1.65017985e+00],\n",
       "       [-2.16699405e-01,  1.24956882e+00],\n",
       "       [-4.88030827e-01,  4.28403126e-01],\n",
       "       [ 4.95704247e-01,  8.25485892e-01],\n",
       "       [ 9.24039739e-01,  9.90234321e-01],\n",
       "       [ 1.26160126e+00, -1.17119499e+00],\n",
       "       [ 9.44307860e-01, -8.57310671e-01],\n",
       "       [ 4.14023222e-01,  1.28798028e+00],\n",
       "       [ 1.60903783e+00, -8.83092116e-01],\n",
       "       [-1.73497946e+00, -3.10920757e-02],\n",
       "       [ 8.00330120e-01,  2.92972058e-01],\n",
       "       [-1.58256309e+00, -4.98748467e-01],\n",
       "       [ 1.44410979e+00, -5.29980134e-01],\n",
       "       [ 1.08532308e+00, -1.08835719e+00],\n",
       "       [ 5.99516125e-01,  5.38479746e-01],\n",
       "       [ 1.63151538e+00, -1.12379278e+00],\n",
       "       [ 4.34243262e-01,  1.50767816e+00],\n",
       "       [ 2.26265545e-01,  1.36614673e+00],\n",
       "       [ 1.73214952e+00, -1.84754437e+00],\n",
       "       [-1.08679232e+00, -1.34768372e+00],\n",
       "       [-6.86599396e-01,  8.78044707e-01],\n",
       "       [ 1.14427902e+00, -8.22634566e-01],\n",
       "       [-3.18548210e-01,  1.75524861e-01],\n",
       "       [-3.31347376e-01,  1.60283488e+00],\n",
       "       [ 4.21990707e-01,  9.23463775e-01],\n",
       "       [-5.71536560e-01,  1.73399515e-02],\n",
       "       [ 1.00897119e+00, -5.08406662e-01],\n",
       "       [-1.75554212e+00, -3.62371497e-01],\n",
       "       [-8.12807268e-01, -8.70883747e-01],\n",
       "       [ 1.98842916e+00, -1.47501019e+00],\n",
       "       [ 1.52454304e+00, -9.53906479e-01],\n",
       "       [-6.61126577e-01,  1.20415064e+00],\n",
       "       [-1.25616503e+00, -1.30684552e+00],\n",
       "       [ 1.27630032e+00, -8.62346440e-01],\n",
       "       [ 8.43219386e-01, -4.30659150e-01],\n",
       "       [-1.88759400e-01,  1.39102048e+00],\n",
       "       [-2.19824260e-02,  7.41256192e-01],\n",
       "       [ 9.09546624e-01, -1.58297977e-01],\n",
       "       [ 1.03401229e+00, -8.33708153e-01],\n",
       "       [ 3.58742879e-01, -1.55538147e-01],\n",
       "       [-1.51884663e+00, -1.35344583e+00],\n",
       "       [ 4.58945650e-01,  4.54580356e-01],\n",
       "       [ 1.05711311e+00,  1.65408866e-01],\n",
       "       [ 3.95953178e-01,  8.60964699e-01],\n",
       "       [-1.04409845e+00, -2.86637318e-01],\n",
       "       [ 1.43603240e+00, -8.16027521e-01],\n",
       "       [-7.54876871e-01,  1.09909340e+00],\n",
       "       [-1.30010956e+00, -4.91202469e-02],\n",
       "       [-1.22568836e+00, -1.60161073e-01],\n",
       "       [ 9.00932005e-01, -1.07381754e+00],\n",
       "       [ 7.44931230e-01,  4.57339421e-01],\n",
       "       [-9.36565138e-01, -1.33680358e-01],\n",
       "       [ 1.04486846e+00, -1.23616540e+00],\n",
       "       [-1.04243929e+00, -1.30774749e-01],\n",
       "       [-1.57589858e-01,  1.21383314e+00],\n",
       "       [ 6.82497372e-01, -4.53497230e-01],\n",
       "       [ 1.03526707e+00, -5.00734086e-01],\n",
       "       [-1.57404128e-01,  1.21589261e+00],\n",
       "       [ 1.26009393e+00, -9.86864079e-01],\n",
       "       [-1.30992890e+00, -1.17104262e+00],\n",
       "       [-6.67793410e-01,  7.70799239e-01],\n",
       "       [-1.51504457e+00, -7.59637738e-01],\n",
       "       [ 7.85747184e-01, -8.63511300e-02],\n",
       "       [-1.32466316e+00, -2.34437502e-01],\n",
       "       [-1.05278737e+00, -1.35281935e+00],\n",
       "       [-1.60465848e+00, -7.44487781e-01],\n",
       "       [ 1.06305188e+00, -1.86400732e-01],\n",
       "       [ 7.05696378e-01,  1.26201580e+00],\n",
       "       [-1.51918308e-01,  1.49626638e+00],\n",
       "       [ 2.26807567e-01,  6.04064068e-01],\n",
       "       [ 3.05815590e-01,  2.40360100e+00],\n",
       "       [-1.26046994e+00, -9.38867062e-01],\n",
       "       [-1.45765375e+00, -1.70889980e+00],\n",
       "       [-2.76300115e-01,  6.97801494e-01],\n",
       "       [-6.11978189e-01,  9.54309197e-01],\n",
       "       [ 4.81823855e-01, -5.99294429e-01],\n",
       "       [ 5.29825592e-01,  8.81966506e-01],\n",
       "       [-1.31374578e+00, -7.26669144e-01],\n",
       "       [-1.07701867e+00, -1.54500702e+00],\n",
       "       [ 1.16317724e+00, -1.17889969e+00],\n",
       "       [ 1.46409221e+00, -1.17314690e+00],\n",
       "       [-1.23279589e+00, -1.10831176e-01],\n",
       "       [-4.41805688e-01,  1.14466835e+00],\n",
       "       [-6.68822200e-01,  6.41622387e-01],\n",
       "       [-1.84497412e-01,  1.51959420e+00],\n",
       "       [ 6.68546266e-01, -4.35885175e-01],\n",
       "       [ 5.29302296e-01, -1.83866275e-01],\n",
       "       [ 1.28808852e+00, -5.67651903e-01],\n",
       "       [-2.28800365e-01,  1.69399192e+00],\n",
       "       [ 1.50910541e-01,  1.53587755e+00],\n",
       "       [ 5.01100212e-03,  1.25942322e+00],\n",
       "       [ 1.32060200e+00, -4.86866591e-01],\n",
       "       [-1.11808311e+00, -1.33372478e+00]])"
      ]
     },
     "execution_count": 122,
     "metadata": {},
     "output_type": "execute_result"
    }
   ],
   "source": [
    "X_train"
   ]
  },
  {
   "cell_type": "code",
   "execution_count": 123,
   "metadata": {},
   "outputs": [
    {
     "data": {
      "text/plain": [
       "array([[-0.54754388, -0.91373349],\n",
       "       [-1.81287186,  1.10764698],\n",
       "       [ 1.43457119, -0.67502221],\n",
       "       [-0.60679368, -1.12422474],\n",
       "       [ 0.56168872,  0.39052896],\n",
       "       [-0.21127445, -0.53402726],\n",
       "       [-0.97079206, -0.86367026],\n",
       "       [-0.77912983,  1.55737848],\n",
       "       [ 1.26219489,  0.43280053],\n",
       "       [ 1.17343959,  0.90657179],\n",
       "       [-0.64224894,  1.20882748],\n",
       "       [-0.83701495,  2.12849157],\n",
       "       [-0.9365656 , -1.34968374],\n",
       "       [ 1.20758153, -0.77980527],\n",
       "       [-1.68095236,  0.97025889],\n",
       "       [ 2.05006398,  0.01093348],\n",
       "       [-1.02267369, -0.79193854],\n",
       "       [-1.16027413, -1.56859304],\n",
       "       [ 0.14717946,  1.08420741],\n",
       "       [-0.12812868, -1.21070906],\n",
       "       [ 1.57908061, -0.80472904],\n",
       "       [-0.03555308, -0.31359859],\n",
       "       [-0.52657237, -0.38853541],\n",
       "       [ 1.27497331,  0.10123914],\n",
       "       [ 0.48535916,  1.04225817],\n",
       "       [ 1.12023352,  0.42456888],\n",
       "       [ 0.84792322,  0.18787242],\n",
       "       [ 1.17753781,  0.67506919],\n",
       "       [ 0.13156871,  0.83013055],\n",
       "       [-1.39007959,  1.38894154],\n",
       "       [-0.21562168, -0.65036215],\n",
       "       [-0.61881535, -1.2409562 ],\n",
       "       [ 0.58395009,  1.08685224],\n",
       "       [-1.00880823, -0.43784081],\n",
       "       [-0.17228838, -1.04007207],\n",
       "       [ 0.26665701, -0.84707586]])"
      ]
     },
     "execution_count": 123,
     "metadata": {},
     "output_type": "execute_result"
    }
   ],
   "source": [
    "X_test"
   ]
  },
  {
   "cell_type": "code",
   "execution_count": null,
   "metadata": {},
   "outputs": [],
   "source": []
  },
  {
   "cell_type": "code",
   "execution_count": 124,
   "metadata": {},
   "outputs": [
    {
     "name": "stderr",
     "output_type": "stream",
     "text": [
      "C:\\Users\\ABIARYAA\\Anaconda3\\lib\\site-packages\\sklearn\\linear_model\\logistic.py:432: FutureWarning: Default solver will be changed to 'lbfgs' in 0.22. Specify a solver to silence this warning.\n",
      "  FutureWarning)\n",
      "C:\\Users\\ABIARYAA\\Anaconda3\\lib\\site-packages\\sklearn\\linear_model\\logistic.py:469: FutureWarning: Default multi_class will be changed to 'auto' in 0.22. Specify the multi_class option to silence this warning.\n",
      "  \"this warning.\", FutureWarning)\n"
     ]
    },
    {
     "data": {
      "text/plain": [
       "LogisticRegression(C=1.0, class_weight=None, dual=False, fit_intercept=True,\n",
       "                   intercept_scaling=1, l1_ratio=None, max_iter=100,\n",
       "                   multi_class='warn', n_jobs=None, penalty='l2',\n",
       "                   random_state=0, solver='warn', tol=0.0001, verbose=0,\n",
       "                   warm_start=False)"
      ]
     },
     "execution_count": 124,
     "metadata": {},
     "output_type": "execute_result"
    }
   ],
   "source": [
    "#Fiiting a logistic regression\n",
    "from sklearn.linear_model import LogisticRegression\n",
    "classifier = LogisticRegression(random_state = 0)\n",
    "classifier.fit(X_train , y_train)"
   ]
  },
  {
   "cell_type": "code",
   "execution_count": 125,
   "metadata": {},
   "outputs": [],
   "source": [
    "#Predicting the test set results\n",
    "y_pred = classifier.predict(X_test)"
   ]
  },
  {
   "cell_type": "code",
   "execution_count": 126,
   "metadata": {},
   "outputs": [
    {
     "data": {
      "text/plain": [
       "array([[ 1,  0, 13],\n",
       "       [ 8,  7,  1],\n",
       "       [ 0,  6,  0]], dtype=int64)"
      ]
     },
     "execution_count": 126,
     "metadata": {},
     "output_type": "execute_result"
    }
   ],
   "source": [
    "#Making a Confusion matrix\n",
    "from sklearn.metrics import confusion_matrix\n",
    "cm = confusion_matrix(y_test, y_pred)\n",
    "cm    #3 real classes and 3 predicted classes"
   ]
  },
  {
   "cell_type": "code",
   "execution_count": 129,
   "metadata": {},
   "outputs": [
    {
     "name": "stderr",
     "output_type": "stream",
     "text": [
      "'c' argument looks like a single numeric RGB or RGBA sequence, which should be avoided as value-mapping will have precedence in case its length matches with 'x' & 'y'.  Please use a 2-D array with a single row if you really want to specify the same RGB or RGBA value for all points.\n",
      "'c' argument looks like a single numeric RGB or RGBA sequence, which should be avoided as value-mapping will have precedence in case its length matches with 'x' & 'y'.  Please use a 2-D array with a single row if you really want to specify the same RGB or RGBA value for all points.\n",
      "'c' argument looks like a single numeric RGB or RGBA sequence, which should be avoided as value-mapping will have precedence in case its length matches with 'x' & 'y'.  Please use a 2-D array with a single row if you really want to specify the same RGB or RGBA value for all points.\n"
     ]
    },
    {
     "data": {
      "image/png": "[encoded data removed]",
      "text/plain": [
       "<Figure size 432x288 with 1 Axes>"
      ]
     },
     "metadata": {
      "needs_background": "light"
     },
     "output_type": "display_data"
    }
   ],
   "source": [
    "# Visualising the Training set results\n",
    "from matplotlib.colors import ListedColormap\n",
    "X_set, y_set = X_train, y_train\n",
    "X1, X2 = np.meshgrid(np.arange(start = X_set[:, 0].min() - 1, stop = X_set[:, 0].max() + 1, step = 0.01),\n",
    "                     np.arange(start = X_set[:, 1].min() - 1, stop = X_set[:, 1].max() + 1, step = 0.01))\n",
    "plt.contourf(X1, X2, classifier.predict(np.array([X1.ravel(), X2.ravel()]).T).reshape(X1.shape),\n",
    "             alpha = 0.75, cmap = ListedColormap(('red', 'green', 'blue'))) #Additional blue\n",
    "plt.xlim(X1.min(), X1.max())\n",
    "plt.ylim(X2.min(), X2.max())\n",
    "for i, j in enumerate(np.unique(y_set)):\n",
    "    plt.scatter(X_set[y_set == j, 0], X_set[y_set == j, 1],\n",
    "                c = ListedColormap(('red', 'green', 'blue'))(i), label = j)\n",
    "plt.title('Logistic Regression with PCA ')\n",
    "plt.xlabel('PC-1')\n",
    "plt.ylabel('PC-2')\n",
    "plt.legend()\n",
    "plt.show()\n"
   ]
  },
  {
   "cell_type": "code",
   "execution_count": 131,
   "metadata": {},
   "outputs": [
    {
     "name": "stderr",
     "output_type": "stream",
     "text": [
      "'c' argument looks like a single numeric RGB or RGBA sequence, which should be avoided as value-mapping will have precedence in case its length matches with 'x' & 'y'.  Please use a 2-D array with a single row if you really want to specify the same RGB or RGBA value for all points.\n",
      "'c' argument looks like a single numeric RGB or RGBA sequence, which should be avoided as value-mapping will have precedence in case its length matches with 'x' & 'y'.  Please use a 2-D array with a single row if you really want to specify the same RGB or RGBA value for all points.\n",
      "'c' argument looks like a single numeric RGB or RGBA sequence, which should be avoided as value-mapping will have precedence in case its length matches with 'x' & 'y'.  Please use a 2-D array with a single row if you really want to specify the same RGB or RGBA value for all points.\n"
     ]
    },
    {
     "data": {
      "image/png": "[encoded data removed]",
      "text/plain": [
       "<Figure size 432x288 with 1 Axes>"
      ]
     },
     "metadata": {
      "needs_background": "light"
     },
     "output_type": "display_data"
    }
   ],
   "source": [
    "# Visualising the Test set results\n",
    "from matplotlib.colors import ListedColormap\n",
    "X_set, y_set = X_test, y_test\n",
    "X1, X2 = np.meshgrid(np.arange(start = X_set[:, 0].min() - 1, stop = X_set[:, 0].max() + 1, step = 0.01),\n",
    "                     np.arange(start = X_set[:, 1].min() - 1, stop = X_set[:, 1].max() + 1, step = 0.01))\n",
    "plt.contourf(X1, X2, classifier.predict(np.array([X1.ravel(), X2.ravel()]).T).reshape(X1.shape),\n",
    "             alpha = 0.75, cmap = ListedColormap(('red', 'green', 'blue')))\n",
    "plt.xlim(X1.min(), X1.max())\n",
    "plt.ylim(X2.min(), X2.max())\n",
    "for i, j in enumerate(np.unique(y_set)):\n",
    "    plt.scatter(X_set[y_set == j, 0], X_set[y_set == j, 1],\n",
    "                c = ListedColormap(('red', 'green', 'blue'))(i), label = j)\n",
    "plt.title('Logistic Regression with PCA (Test set)')\n",
    "plt.xlabel('PC-1')\n",
    "plt.ylabel('PC-2')\n",
    "plt.legend()\n",
    "plt.show()\n"
   ]
  },
  {
   "cell_type": "code",
   "execution_count": null,
   "metadata": {},
   "outputs": [],
   "source": []
  }
 ],
 "metadata": {
  "kernelspec": {
   "display_name": "Python 3",
   "language": "python",
   "name": "python3"
  },
  "language_info": {
   "codemirror_mode": {
    "name": "ipython",
    "version": 3
   },
   "file_extension": ".py",
   "mimetype": "text/x-python",
   "name": "python",
   "nbconvert_exporter": "python",
   "pygments_lexer": "ipython3",
   "version": "3.7.4"
  }
 },
 "nbformat": 4,
 "nbformat_minor": 2
}
